{
 "cells": [
  {
   "cell_type": "code",
   "execution_count": 79,
   "metadata": {},
   "outputs": [
    {
     "data": {
      "text/html": [
       "<div>\n",
       "<style scoped>\n",
       "    .dataframe tbody tr th:only-of-type {\n",
       "        vertical-align: middle;\n",
       "    }\n",
       "\n",
       "    .dataframe tbody tr th {\n",
       "        vertical-align: top;\n",
       "    }\n",
       "\n",
       "    .dataframe thead th {\n",
       "        text-align: right;\n",
       "    }\n",
       "</style>\n",
       "<table border=\"1\" class=\"dataframe\">\n",
       "  <thead>\n",
       "    <tr style=\"text-align: right;\">\n",
       "      <th></th>\n",
       "      <th>Sector Code</th>\n",
       "      <th>Sector</th>\n",
       "      <th>Industry Code</th>\n",
       "      <th>Industry</th>\n",
       "      <th>Disclosure Topic Code</th>\n",
       "      <th>Disclosure Topic</th>\n",
       "      <th>Disclosure Topic Description</th>\n",
       "    </tr>\n",
       "  </thead>\n",
       "  <tbody>\n",
       "    <tr>\n",
       "      <th>0</th>\n",
       "      <td>CG</td>\n",
       "      <td>Consumer Goods Sector</td>\n",
       "      <td>CG-AA</td>\n",
       "      <td>Apparel, Accessories &amp; Footwear</td>\n",
       "      <td>CG-AA-250a</td>\n",
       "      <td>Management of Chemicals in Products</td>\n",
       "      <td>The introduction of the Consumer Product Safet...</td>\n",
       "    </tr>\n",
       "    <tr>\n",
       "      <th>1</th>\n",
       "      <td>CG</td>\n",
       "      <td>Consumer Goods Sector</td>\n",
       "      <td>CG-AA</td>\n",
       "      <td>Apparel, Accessories &amp; Footwear</td>\n",
       "      <td>CG-AA-430a</td>\n",
       "      <td>Environmental Impacts in the Supply Chain</td>\n",
       "      <td>The Apparel, Accessories &amp; Footwear industry’s...</td>\n",
       "    </tr>\n",
       "    <tr>\n",
       "      <th>2</th>\n",
       "      <td>CG</td>\n",
       "      <td>Consumer Goods Sector</td>\n",
       "      <td>CG-AA</td>\n",
       "      <td>Apparel, Accessories &amp; Footwear</td>\n",
       "      <td>CG-AA-430b</td>\n",
       "      <td>Labor Conditions in the Supply Chain</td>\n",
       "      <td>The treatment of workers and the protection of...</td>\n",
       "    </tr>\n",
       "    <tr>\n",
       "      <th>3</th>\n",
       "      <td>CG</td>\n",
       "      <td>Consumer Goods Sector</td>\n",
       "      <td>CG-AA</td>\n",
       "      <td>Apparel, Accessories &amp; Footwear</td>\n",
       "      <td>CG-AA-440a</td>\n",
       "      <td>Raw Materials Sourcing</td>\n",
       "      <td>Companies in this industry rely on numerous ra...</td>\n",
       "    </tr>\n",
       "    <tr>\n",
       "      <th>4</th>\n",
       "      <td>CG</td>\n",
       "      <td>Consumer Goods Sector</td>\n",
       "      <td>CG-AM</td>\n",
       "      <td>Appliance Manufacturing</td>\n",
       "      <td>CG-AM-250a</td>\n",
       "      <td>Product Safety</td>\n",
       "      <td>Product safety is of utmost importance to appl...</td>\n",
       "    </tr>\n",
       "  </tbody>\n",
       "</table>\n",
       "</div>"
      ],
      "text/plain": [
       "  Sector Code                 Sector Industry Code  \\\n",
       "0          CG  Consumer Goods Sector         CG-AA   \n",
       "1          CG  Consumer Goods Sector         CG-AA   \n",
       "2          CG  Consumer Goods Sector         CG-AA   \n",
       "3          CG  Consumer Goods Sector         CG-AA   \n",
       "4          CG  Consumer Goods Sector         CG-AM   \n",
       "\n",
       "                          Industry Disclosure Topic Code  \\\n",
       "0  Apparel, Accessories & Footwear            CG-AA-250a   \n",
       "1  Apparel, Accessories & Footwear            CG-AA-430a   \n",
       "2  Apparel, Accessories & Footwear            CG-AA-430b   \n",
       "3  Apparel, Accessories & Footwear            CG-AA-440a   \n",
       "4          Appliance Manufacturing            CG-AM-250a   \n",
       "\n",
       "                            Disclosure Topic  \\\n",
       "0        Management of Chemicals in Products   \n",
       "1  Environmental Impacts in the Supply Chain   \n",
       "2       Labor Conditions in the Supply Chain   \n",
       "3                     Raw Materials Sourcing   \n",
       "4                             Product Safety   \n",
       "\n",
       "                        Disclosure Topic Description  \n",
       "0  The introduction of the Consumer Product Safet...  \n",
       "1  The Apparel, Accessories & Footwear industry’s...  \n",
       "2  The treatment of workers and the protection of...  \n",
       "3  Companies in this industry rely on numerous ra...  \n",
       "4  Product safety is of utmost importance to appl...  "
      ]
     },
     "execution_count": 79,
     "metadata": {},
     "output_type": "execute_result"
    }
   ],
   "source": [
    "import pandas as pd\n",
    "\n",
    "df = pd.read_excel('src/SASB.xlsx', sheet_name= 0)\n",
    "\n",
    "df.head()"
   ]
  },
  {
   "cell_type": "code",
   "execution_count": 80,
   "metadata": {},
   "outputs": [],
   "source": [
    "list_industry = df['Industry'].unique().tolist()"
   ]
  },
  {
   "cell_type": "code",
   "execution_count": 81,
   "metadata": {},
   "outputs": [],
   "source": [
    "select = df[ df['Industry'] == 'Appliance Manufacturing' ].reset_index()\n",
    "\n",
    "list_topic = select[['Disclosure Topic', 'Disclosure Topic Description']]"
   ]
  },
  {
   "cell_type": "code",
   "execution_count": 82,
   "metadata": {},
   "outputs": [
    {
     "name": "stdout",
     "output_type": "stream",
     "text": [
      "Product Safety\n",
      "Product safety is of utmost importance to appliance and tool manufacturers. When an appliance malfunctions, it can result in fires or other hazards that damage property and cause injury or even death. The potential for product malfunction and its sometimes-serious consequences exposes firms to risks related to litigation and negative consumer sentiment, which can affect brand value, revenue growth, and/or market share. Failure to report known product safety hazards to relevant authorities can result in civil penalties. Companies that dedicate appropriate resources to quality control and testing can minimize the possibility of a product malfunction or recall, and can capture additional market share and limit their exposure to regulatory and litigation risks.\n",
      "Product Lifecycle Environmental Impacts\n",
      "Companies in the Appliance Manufacturing industry are constantly seeking to differentiate their products from those of their competitors. One key differentiating factor is the environmental impact of products over their lifecycle, which is often associated with the cost of using appliances. This issue involves a company’s ability to design products with the entire lifecycle in mind, from creation and use to disposal. In particular, this covers energy and water efficiency in appliances, which account for a significant proportion of a home’s energy and water use, as well as designing for and facilitating safe end-of-life disposal and recycling. Companies that prioritize designing and manufacturing products with improved environmental impacts are more likely to grow consumer demand and market share. Furthermore, companies that are able to minimize the environmental impacts of products are more likely to be better positioned to increased regulation related to areas such as extended producer responsibility.\n"
     ]
    }
   ],
   "source": [
    "for i in range(len(select)):\n",
    "    print(select['Disclosure Topic'][i])\n",
    "    print(select['Disclosure Topic Description'][i])"
   ]
  },
  {
   "cell_type": "code",
   "execution_count": 83,
   "metadata": {},
   "outputs": [
    {
     "name": "stdout",
     "output_type": "stream",
     "text": [
      "Quantitative\n",
      "Number of (1) recalls issued and (2) total units recalled\n",
      "Discussion and Analysis\n",
      "Discussion of process to identify and manage safety risks associated with the use of its products\n",
      "Quantitative\n",
      "Total amount of monetary losses as a result of legal proceedings associated with product safety\n",
      "Quantitative\n",
      "Percentage of eligible products by revenue certified to the ENERGY STAR® program\n",
      "Quantitative\n",
      "Percentage of eligible products certified to an Association of Home Appliance Manufacturers (AHAM) sustainability standard\n",
      "Discussion and Analysis\n",
      "Description of efforts to manage products’ end-of-life impacts\n"
     ]
    }
   ],
   "source": [
    "df2 = pd.read_excel('src/SASB.xlsx', sheet_name= 1)\n",
    "\n",
    "#df2['Accounting Metric'][0]\n",
    "select2 = df2[ df2['Industry'] == 'Appliance Manufacturing' ].reset_index()\n",
    "\n",
    "for i in range(len(select2)):\n",
    "    print(select2['Accounting Metric Category'][i])\n",
    "    print(select2['Accounting Metric'][i])\n"
   ]
  },
  {
   "cell_type": "code",
   "execution_count": 84,
   "metadata": {},
   "outputs": [
    {
     "name": "stderr",
     "output_type": "stream",
     "text": [
      "/var/folders/vh/l2wksfvx397_s94nz191rypm0000gn/T/ipykernel_18447/1518480398.py:18: SettingWithCopyWarning: \n",
      "A value is trying to be set on a copy of a slice from a DataFrame\n",
      "\n",
      "See the caveats in the documentation: https://pandas.pydata.org/pandas-docs/stable/user_guide/indexing.html#returning-a-view-versus-a-copy\n",
      "  df3['Globals'][i] = round(numbers.iloc[i].mean())\n"
     ]
    }
   ],
   "source": [
    "df3 = pd.DataFrame(data=df['Industry'], columns=['Industry'])\n",
    "df3 = df3.drop_duplicates().reset_index(drop=True)\n",
    "\n",
    "metrics = ['Climate Change','Pollution','Water and Marine Resources',\n",
    "            'Biodiversity and Ecosystems', 'Circular Economy']\n",
    "\n",
    "from random import *\n",
    "\n",
    "for metric in metrics:\n",
    "    df3[metric] = [randint(0, 100) for x in df3['Industry']]\n",
    "\n",
    "\n",
    "numbers = df3.drop(columns=['Industry'])\n",
    "\n",
    "df3['Globals'] = 0\n",
    "\n",
    "for i in range(len(numbers)):\n",
    "    df3['Globals'][i] = round(numbers.iloc[i].mean())\n",
    "\n"
   ]
  },
  {
   "cell_type": "code",
   "execution_count": 85,
   "metadata": {},
   "outputs": [],
   "source": [
    "metrics.append('Globals')\n",
    "\n",
    "metrics\n",
    "\n",
    "def to_ordinal(chiffre):\n",
    "    if chiffre >= 80:\n",
    "        return 'A'\n",
    "    elif chiffre < 80 and chiffre >= 60:\n",
    "        return 'B'\n",
    "    elif chiffre < 60 and chiffre >= 40:\n",
    "        return 'C'\n",
    "    elif chiffre < 40 and chiffre >= 20:\n",
    "        return 'D'\n",
    "    elif chiffre < 20 and chiffre >= 00:\n",
    "        return 'E'\n",
    "\n",
    "for metric in metrics:\n",
    "    df3[f'{metric}_Ordinal'] = [to_ordinal(x) for x in df3[metric]]\n",
    "\n",
    "\n",
    "df3.to_csv('src/notation.csv')"
   ]
  },
  {
   "cell_type": "code",
   "execution_count": null,
   "metadata": {},
   "outputs": [],
   "source": []
  }
 ],
 "metadata": {
  "kernelspec": {
   "display_name": "Python 3",
   "language": "python",
   "name": "python3"
  },
  "language_info": {
   "codemirror_mode": {
    "name": "ipython",
    "version": 3
   },
   "file_extension": ".py",
   "mimetype": "text/x-python",
   "name": "python",
   "nbconvert_exporter": "python",
   "pygments_lexer": "ipython3",
   "version": "3.9.5"
  },
  "orig_nbformat": 4,
  "vscode": {
   "interpreter": {
    "hash": "7812ea015bdcee6f23a998adcdd2ef97c151c0c241b7b7070987d9313e41299d"
   }
  }
 },
 "nbformat": 4,
 "nbformat_minor": 2
}
