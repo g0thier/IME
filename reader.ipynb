{
 "cells": [
  {
   "cell_type": "code",
   "execution_count": 21,
   "metadata": {},
   "outputs": [
    {
     "data": {
      "text/html": [
       "<div>\n",
       "<style scoped>\n",
       "    .dataframe tbody tr th:only-of-type {\n",
       "        vertical-align: middle;\n",
       "    }\n",
       "\n",
       "    .dataframe tbody tr th {\n",
       "        vertical-align: top;\n",
       "    }\n",
       "\n",
       "    .dataframe thead th {\n",
       "        text-align: right;\n",
       "    }\n",
       "</style>\n",
       "<table border=\"1\" class=\"dataframe\">\n",
       "  <thead>\n",
       "    <tr style=\"text-align: right;\">\n",
       "      <th></th>\n",
       "      <th>Sector Code</th>\n",
       "      <th>Sector</th>\n",
       "      <th>Industry Code</th>\n",
       "      <th>Industry</th>\n",
       "      <th>Disclosure Topic Code</th>\n",
       "      <th>Disclosure Topic</th>\n",
       "      <th>Disclosure Topic Description</th>\n",
       "    </tr>\n",
       "  </thead>\n",
       "  <tbody>\n",
       "    <tr>\n",
       "      <th>0</th>\n",
       "      <td>CG</td>\n",
       "      <td>Consumer Goods Sector</td>\n",
       "      <td>CG-AA</td>\n",
       "      <td>Apparel, Accessories &amp; Footwear</td>\n",
       "      <td>CG-AA-250a</td>\n",
       "      <td>Management of Chemicals in Products</td>\n",
       "      <td>The introduction of the Consumer Product Safet...</td>\n",
       "    </tr>\n",
       "    <tr>\n",
       "      <th>1</th>\n",
       "      <td>CG</td>\n",
       "      <td>Consumer Goods Sector</td>\n",
       "      <td>CG-AA</td>\n",
       "      <td>Apparel, Accessories &amp; Footwear</td>\n",
       "      <td>CG-AA-430a</td>\n",
       "      <td>Environmental Impacts in the Supply Chain</td>\n",
       "      <td>The Apparel, Accessories &amp; Footwear industry’s...</td>\n",
       "    </tr>\n",
       "    <tr>\n",
       "      <th>2</th>\n",
       "      <td>CG</td>\n",
       "      <td>Consumer Goods Sector</td>\n",
       "      <td>CG-AA</td>\n",
       "      <td>Apparel, Accessories &amp; Footwear</td>\n",
       "      <td>CG-AA-430b</td>\n",
       "      <td>Labor Conditions in the Supply Chain</td>\n",
       "      <td>The treatment of workers and the protection of...</td>\n",
       "    </tr>\n",
       "    <tr>\n",
       "      <th>3</th>\n",
       "      <td>CG</td>\n",
       "      <td>Consumer Goods Sector</td>\n",
       "      <td>CG-AA</td>\n",
       "      <td>Apparel, Accessories &amp; Footwear</td>\n",
       "      <td>CG-AA-440a</td>\n",
       "      <td>Raw Materials Sourcing</td>\n",
       "      <td>Companies in this industry rely on numerous ra...</td>\n",
       "    </tr>\n",
       "    <tr>\n",
       "      <th>4</th>\n",
       "      <td>CG</td>\n",
       "      <td>Consumer Goods Sector</td>\n",
       "      <td>CG-AM</td>\n",
       "      <td>Appliance Manufacturing</td>\n",
       "      <td>CG-AM-250a</td>\n",
       "      <td>Product Safety</td>\n",
       "      <td>Product safety is of utmost importance to appl...</td>\n",
       "    </tr>\n",
       "  </tbody>\n",
       "</table>\n",
       "</div>"
      ],
      "text/plain": [
       "  Sector Code                 Sector Industry Code  \\\n",
       "0          CG  Consumer Goods Sector         CG-AA   \n",
       "1          CG  Consumer Goods Sector         CG-AA   \n",
       "2          CG  Consumer Goods Sector         CG-AA   \n",
       "3          CG  Consumer Goods Sector         CG-AA   \n",
       "4          CG  Consumer Goods Sector         CG-AM   \n",
       "\n",
       "                          Industry Disclosure Topic Code  \\\n",
       "0  Apparel, Accessories & Footwear            CG-AA-250a   \n",
       "1  Apparel, Accessories & Footwear            CG-AA-430a   \n",
       "2  Apparel, Accessories & Footwear            CG-AA-430b   \n",
       "3  Apparel, Accessories & Footwear            CG-AA-440a   \n",
       "4          Appliance Manufacturing            CG-AM-250a   \n",
       "\n",
       "                            Disclosure Topic  \\\n",
       "0        Management of Chemicals in Products   \n",
       "1  Environmental Impacts in the Supply Chain   \n",
       "2       Labor Conditions in the Supply Chain   \n",
       "3                     Raw Materials Sourcing   \n",
       "4                             Product Safety   \n",
       "\n",
       "                        Disclosure Topic Description  \n",
       "0  The introduction of the Consumer Product Safet...  \n",
       "1  The Apparel, Accessories & Footwear industry’s...  \n",
       "2  The treatment of workers and the protection of...  \n",
       "3  Companies in this industry rely on numerous ra...  \n",
       "4  Product safety is of utmost importance to appl...  "
      ]
     },
     "execution_count": 21,
     "metadata": {},
     "output_type": "execute_result"
    }
   ],
   "source": [
    "import pandas as pd\n",
    "\n",
    "df = pd.read_excel('src/SASB.xlsx', sheet_name= 0)\n",
    "\n",
    "df.head()"
   ]
  },
  {
   "cell_type": "code",
   "execution_count": 22,
   "metadata": {},
   "outputs": [],
   "source": [
    "list_industry = df['Industry'].unique().tolist()"
   ]
  },
  {
   "cell_type": "code",
   "execution_count": 23,
   "metadata": {},
   "outputs": [],
   "source": [
    "select = df[ df['Industry'] == 'Appliance Manufacturing' ].reset_index()\n",
    "\n",
    "list_topic = select[['Disclosure Topic', 'Disclosure Topic Description']]"
   ]
  },
  {
   "cell_type": "code",
   "execution_count": null,
   "metadata": {},
   "outputs": [],
   "source": [
    "for i in range(len(select)):\n",
    "    print(select['Disclosure Topic'][i])\n",
    "    print(select['Disclosure Topic Description'][i])"
   ]
  },
  {
   "cell_type": "code",
   "execution_count": null,
   "metadata": {},
   "outputs": [],
   "source": []
  }
 ],
 "metadata": {
  "kernelspec": {
   "display_name": "Python 3",
   "language": "python",
   "name": "python3"
  },
  "language_info": {
   "codemirror_mode": {
    "name": "ipython",
    "version": 3
   },
   "file_extension": ".py",
   "mimetype": "text/x-python",
   "name": "python",
   "nbconvert_exporter": "python",
   "pygments_lexer": "ipython3",
   "version": "3.9.5"
  },
  "orig_nbformat": 4,
  "vscode": {
   "interpreter": {
    "hash": "7812ea015bdcee6f23a998adcdd2ef97c151c0c241b7b7070987d9313e41299d"
   }
  }
 },
 "nbformat": 4,
 "nbformat_minor": 2
}
